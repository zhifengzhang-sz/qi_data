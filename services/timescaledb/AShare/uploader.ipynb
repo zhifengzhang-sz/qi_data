{
 "cells": [
  {
   "cell_type": "markdown",
   "metadata": {},
   "source": [
    "# 导入数据\n",
    "- 通达信\n",
    "- mydata:\n",
    "    1. license='30294013744efca1c'\n",
    "- yahoo finance"
   ]
  },
  {
   "cell_type": "markdown",
   "metadata": {},
   "source": [
    "## 通达信"
   ]
  },
  {
   "cell_type": "code",
   "execution_count": 1,
   "metadata": {},
   "outputs": [],
   "source": [
    "from pytdx.hq import TdxHq_API, TDXParams\n",
    "from pytdx.exhq import TdxExHq_API\n",
    "api=TdxHq_API()\n",
    "ip,port=('119.147.212.81',7709)\n",
    "api_ex=TdxExHq_API()\n",
    "ip_ex,port_ex=('182.175.240.157',7727)"
   ]
  },
  {
   "cell_type": "code",
   "execution_count": 2,
   "metadata": {},
   "outputs": [],
   "source": [
    "kline_index=['open','close','high','low','vol','amount','datetime']\n",
    "nday=5\n",
    "n60min=4\n",
    "n30min=n60min*2\n",
    "n15min=n60min*4\n",
    "n1min=n60min*60"
   ]
  },
  {
   "cell_type": "markdown",
   "metadata": {},
   "source": [
    "## mydata"
   ]
  },
  {
   "cell_type": "code",
   "execution_count": 3,
   "metadata": {},
   "outputs": [],
   "source": [
    "from utils.restapi import api_get, get_env_licence\n",
    "from dotenv import load_dotenv"
   ]
  },
  {
   "cell_type": "code",
   "execution_count": 4,
   "metadata": {},
   "outputs": [
    {
     "data": {
      "text/plain": [
       "True"
      ]
     },
     "execution_count": 4,
     "metadata": {},
     "output_type": "execute_result"
    }
   ],
   "source": [
    "load_dotenv(dotenv_path='../.env')"
   ]
  },
  {
   "cell_type": "code",
   "execution_count": 5,
   "metadata": {},
   "outputs": [],
   "source": [
    "licence=get_env_licence('mydata')"
   ]
  },
  {
   "cell_type": "code",
   "execution_count": 6,
   "metadata": {},
   "outputs": [
    {
     "name": "stdout",
     "output_type": "stream",
     "text": [
      "30294013744efca1c\n"
     ]
    }
   ],
   "source": [
    "print(licence)"
   ]
  }
 ],
 "metadata": {
  "kernelspec": {
   "display_name": "python3.10.11",
   "language": "python",
   "name": "python3"
  },
  "language_info": {
   "codemirror_mode": {
    "name": "ipython",
    "version": 3
   },
   "file_extension": ".py",
   "mimetype": "text/x-python",
   "name": "python",
   "nbconvert_exporter": "python",
   "pygments_lexer": "ipython3",
   "version": "3.10.11"
  },
  "orig_nbformat": 4
 },
 "nbformat": 4,
 "nbformat_minor": 2
}
