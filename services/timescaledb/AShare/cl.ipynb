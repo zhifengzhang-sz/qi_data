{
 "cells": [
  {
   "attachments": {},
   "cell_type": "markdown",
   "metadata": {},
   "source": [
    "# 缠论研究"
   ]
  },
  {
   "cell_type": "code",
   "execution_count": 2,
   "metadata": {},
   "outputs": [],
   "source": [
    "import os\n",
    "\n",
    "os.environ['czsc_research_cache']=os.environ.get('czsc_research_cache',os.getcwd()+'/data')"
   ]
  },
  {
   "cell_type": "code",
   "execution_count": 3,
   "metadata": {},
   "outputs": [
    {
     "name": "stdout",
     "output_type": "stream",
     "text": [
      "/home/zzhang/dev/qi/github/portfolio/services/timescaledb/AShare/data\n"
     ]
    }
   ],
   "source": [
    "print(os.getenv('czsc_research_cache'))"
   ]
  },
  {
   "cell_type": "code",
   "execution_count": 4,
   "metadata": {},
   "outputs": [
    {
     "name": "stdout",
     "output_type": "stream",
     "text": [
      "请设置tushare pro的token凭证码，如果没有请访问https://tushare.pro注册申请\n"
     ]
    },
    {
     "ename": "ValueError",
     "evalue": "请设置环境变量 czsc_research_cache 为投研共享数据的本地缓存路径，当前路径不存在：/home/zzhang/dev/qi/github/portfolio/services/timescaledb/AShare/data。\n\n投研数据共享说明（含下载地址）：https://s0cqcxuy3p.feishu.cn/wiki/wikcnzuPawXtBB7Cj7mqlYZxpDh",
     "output_type": "error",
     "traceback": [
      "\u001b[0;31m---------------------------------------------------------------------------\u001b[0m",
      "\u001b[0;31mValueError\u001b[0m                                Traceback (most recent call last)",
      "Cell \u001b[0;32mIn[4], line 1\u001b[0m\n\u001b[0;32m----> 1\u001b[0m \u001b[39mfrom\u001b[39;00m \u001b[39mczsc\u001b[39;00m\u001b[39m.\u001b[39;00m\u001b[39mconnectors\u001b[39;00m \u001b[39mimport\u001b[39;00m research\n\u001b[1;32m      2\u001b[0m \u001b[39mfrom\u001b[39;00m \u001b[39mczsc\u001b[39;00m \u001b[39mimport\u001b[39;00m Event, Position\n",
      "File \u001b[0;32m~/.pyenv/versions/3.10.11/envs/python3.10.11/lib/python3.10/site-packages/czsc/connectors/research.py:18\u001b[0m\n\u001b[1;32m     16\u001b[0m cache_path \u001b[39m=\u001b[39m os\u001b[39m.\u001b[39menviron\u001b[39m.\u001b[39mget(\u001b[39m'\u001b[39m\u001b[39mczsc_research_cache\u001b[39m\u001b[39m'\u001b[39m, \u001b[39mr\u001b[39m\u001b[39m\"\u001b[39m\u001b[39mD:\u001b[39m\u001b[39m\\\u001b[39m\u001b[39mCZSC投研数据\u001b[39m\u001b[39m\"\u001b[39m)\n\u001b[1;32m     17\u001b[0m \u001b[39mif\u001b[39;00m \u001b[39mnot\u001b[39;00m os\u001b[39m.\u001b[39mpath\u001b[39m.\u001b[39mexists(cache_path):\n\u001b[0;32m---> 18\u001b[0m     \u001b[39mraise\u001b[39;00m \u001b[39mValueError\u001b[39;00m(\u001b[39mf\u001b[39m\u001b[39m\"\u001b[39m\u001b[39m请设置环境变量 czsc_research_cache 为投研共享数据的本地缓存路径，当前路径不存在：\u001b[39m\u001b[39m{\u001b[39;00mcache_path\u001b[39m}\u001b[39;00m\u001b[39m。\u001b[39m\u001b[39m\\n\u001b[39;00m\u001b[39m\\n\u001b[39;00m\u001b[39m\"\u001b[39m\n\u001b[1;32m     19\u001b[0m                      \u001b[39mf\u001b[39m\u001b[39m\"\u001b[39m\u001b[39m投研数据共享说明（含下载地址）：https://s0cqcxuy3p.feishu.cn/wiki/wikcnzuPawXtBB7Cj7mqlYZxpDh\u001b[39m\u001b[39m\"\u001b[39m)\n\u001b[1;32m     22\u001b[0m \u001b[39mdef\u001b[39;00m \u001b[39mget_symbols\u001b[39m(name, \u001b[39m*\u001b[39m\u001b[39m*\u001b[39mkwargs):\n\u001b[1;32m     23\u001b[0m \u001b[39m    \u001b[39m\u001b[39m\"\"\"获取指定分组下的所有标的代码\u001b[39;00m\n\u001b[1;32m     24\u001b[0m \n\u001b[1;32m     25\u001b[0m \u001b[39m    :param name: 分组名称，可选值：'A股主要指数', 'A股场内基金', '中证500成分股', '期货主力'\u001b[39;00m\n\u001b[1;32m     26\u001b[0m \u001b[39m    :param kwargs:\u001b[39;00m\n\u001b[1;32m     27\u001b[0m \u001b[39m    :return:\u001b[39;00m\n\u001b[1;32m     28\u001b[0m \u001b[39m    \"\"\"\u001b[39;00m\n",
      "\u001b[0;31mValueError\u001b[0m: 请设置环境变量 czsc_research_cache 为投研共享数据的本地缓存路径，当前路径不存在：/home/zzhang/dev/qi/github/portfolio/services/timescaledb/AShare/data。\n\n投研数据共享说明（含下载地址）：https://s0cqcxuy3p.feishu.cn/wiki/wikcnzuPawXtBB7Cj7mqlYZxpDh"
     ]
    }
   ],
   "source": [
    "from czsc.connectors import research\n",
    "from czsc import Event, Position"
   ]
  },
  {
   "attachments": {},
   "cell_type": "markdown",
   "metadata": {},
   "source": [
    "本来要继续写上节所遗留的第一个中枢形成后走势类型的分类问题，但发现太多人，连每天如何看盘都搞不清楚，这事情可能更迫切，所以先说一下。\n",
    "\n",
    " \n",
    "\n",
    "当然，如果是按某级别的严格操作，每天具体怎么走是关系不大的，走势不会因为交易是按天来的就有什么本质的不同。但针对每天的走势进行一些分类，至少是一个好的辅助。\n",
    "\n",
    " \n",
    "\n",
    "一天的交易是4小时，等于有8个30分钟K线组成的一个系统。把3个相邻30分钟K线的重叠部分当成一个每天走势上的一个中枢，那么，一般来说显然，任何一天的走势，无非只有三类：一、只有一个中枢；二、两个中枢。三、没有中枢，其力度依次趋强。\n",
    "\n",
    " \n",
    "\n",
    "一、只有一个中枢\n",
    "\n",
    " \n",
    "\n",
    "这种走势，是典型的平衡市，一般情况下，开盘后前三根30分钟K线就决定了全天的波动区间，而全天的极限位置，基本上，至少有一个都出现在这前三根30分钟K线上，不是创出当天高点，就是创出当天低点。当然，这不是完全绝对的，因此可以对这种情况进行更细致的分类。\n",
    "\n",
    " \n",
    "\n",
    "1、在前三根30分钟K线出现当天高点\n",
    "\n",
    " \n",
    "\n",
    "这可以称为弱平衡市，其中最弱的是当天低点收，注意，这和当天是否红盘无关，高开最后红盘收也可以形成这种最弱的弱平衡市。次弱是收在中枢之下，收在中枢是一般的弱平衡市；收在当天高点附近的是最强的一种。\n",
    "\n",
    " \n",
    "\n",
    "2、在前三根30分钟K线出现当天低点\n",
    "\n",
    " \n",
    "\n",
    "这可以称为强平衡市，其中最强的，就是以当天高点收，同样，这与当天是否红盘无关。次强是收在中枢之上，收在中枢是一般的强平衡市；收在当天低点附近的是最弱的一种。\n",
    "\n",
    "                       \n",
    "\n",
    "3、在前三根30分钟K线不出现当天高低点\n",
    "\n",
    " \n",
    "\n",
    "这可以称为转折平衡市，同样可以像上面情况一样根据收盘位置定义其强弱。\n",
    "\n",
    " \n",
    "\n",
    "注意，以上三种情况中枢的位置不一定是前三根30分钟K线的重叠，可以是后面几根的。\n",
    "\n",
    " \n",
    "\n",
    " \n",
    "\n",
    "二、两个中枢\n",
    "\n",
    " \n",
    "\n",
    "显然，这根据两中枢的前后方向可以分为向上、向下两种，一般地，讨论向上的情况，向下的情况反过来就是。\n",
    "\n",
    " \n",
    "\n",
    "两个中枢，显然不能有重叠的地方，否则就会转化成上面的情形。因此，这种形态，最大的特点就是这两个中枢之间有至少有一个30分钟K线，其中有部分区间是不属于两个中枢的任何一个，这个区间，成为单边区间，这是这种走势最重要的特点，是其后走势的关键位置。注意，具有单边区间的K线不从属任何一个中枢。\n",
    "\n",
    " \n",
    "\n",
    "由于只有8根30分钟K线，根据单边区间所在位置，无非是两种可能： 1、单边区间在第四根30分钟K线。2、单边区间在第五根30分钟K线。由此就知道，为什么所有出现单边走势的，变盘时间都在中午收盘的前后30分钟之内。\n",
    "\n",
    " \n",
    "\n",
    "当然，第4第5根30分钟K线可以同时具有单边区间。如果只有第4根K线具有单边区间的情况，那么第八根K线，有可能出现穿越单边区间的情况，例如，昨天200070417的走势。\n",
    "\n",
    " \n",
    "\n",
    "显然，对于上涨的情况来说，最强的就是收盘在第二中枢的上方，最弱的，就是出现第八根K线出现穿越单边区间的情况，最终收在第一个中枢的之下。然后根据收盘的位置，可以依次定出其他的强弱。\n",
    "\n",
    " \n",
    "\n",
    "三、没有中枢\n",
    "\n",
    " \n",
    "\n",
    "这是最强的单边走势，8根K线，没有相临3根是有重叠部分的，一旦出现这种情况，就是典型的强烈走势，一旦出现这种走势，该日K线都是具有重要意义的。一般来说，这种走势很不常见。例如，227那天就是。但别以为出现这种走势就一定会继续趋势，往往很多骗线就是故意用这类走势构成，特别是在大的日K线中枢中出现这种情况，更大可能是骗线，例如227。当然，如果是在一个第三类买卖点后出现这种走势，出现大级别的强势趋势的可能性就极大了。\n",
    "\n",
    " \n",
    "\n",
    "时间紧，不能写太多，如何利用每天走势图进行辅助操作，在周五的下节课中说"
   ]
  },
  {
   "cell_type": "code",
   "execution_count": 17,
   "metadata": {},
   "outputs": [],
   "source": [
    "from datetime import datetime, timedelta\n",
    "import tushare as ts\n",
    "ts.set_token('7ac48d0a18070d8dc48e2027e88ed13b2e19c9d52bff35f9df1bd906')\n",
    "\n",
    "def daily_classifier(ts_code, trade_date):\n",
    "    \"\"\" A 股每日走势的分类\n",
    "\n",
    "    使用该方法前，请仔细阅读：http://blog.sina.com.cn/s/blog_486e105c010009uy.html\n",
    "\n",
    "    每个交易日产生 8 根 30 分钟 K 线，分别在前三根和最后三根中计算中枢，其结果分以下情况：\n",
    "    1）没有中枢；\n",
    "    2）仅有一个中枢，或计算得到的两个中枢区间有重叠；\n",
    "    3）有两个中枢，且没有重叠。\n",
    "    \"\"\"\n",
    "    start_date = datetime.strptime(trade_date, '%Y%m%d')\n",
    "    end_date = start_date + timedelta(days=1)\n",
    "    end_date = end_date.date().__str__().replace(\"-\", \"\")\n",
    "\n",
    "    df = ts.pro_bar(ts_code=ts_code, freq='30min', start_date=trade_date, end_date=end_date)\n",
    "    df.sort_values('trade_time', inplace=True)\n",
    "    data = df[['ts_code', 'trade_time', 'high', 'low']].iloc[1:, :]\n",
    "    data = data.reset_index(drop=True)\n",
    "    assert len(data) == 8, \"每个交易日，A股有且只有8跟30分钟K线\"\n",
    "\n",
    "    def _central(tri):\n",
    "        c_low = max(tri['low'])\n",
    "        c_high = min(tri['high'])\n",
    "        if c_low >= c_high:\n",
    "            # None means no central found\n",
    "            central = None\n",
    "        else:\n",
    "            central = {\n",
    "                \"time_span\": \"%s - %s\" % (tri.iloc[0, 1], tri.iloc[2, 1]),\n",
    "                \"price_span\": (c_low, c_high)\n",
    "            }\n",
    "        return central\n",
    "\n",
    "    first_central = _central(data.iloc[:3, :])\n",
    "    last_central = _central(data.iloc[-3:, :])\n",
    "    return first_central, last_central"
   ]
  },
  {
   "cell_type": "code",
   "execution_count": 18,
   "metadata": {},
   "outputs": [
    {
     "name": "stdout",
     "output_type": "stream",
     "text": [
      "抱歉，您没有访问该接口的权限，权限的具体详情访问：https://tushare.pro/document/1?doc_id=108。\n",
      "抱歉，您没有访问该接口的权限，权限的具体详情访问：https://tushare.pro/document/1?doc_id=108。\n",
      "抱歉，您没有访问该接口的权限，权限的具体详情访问：https://tushare.pro/document/1?doc_id=108。\n"
     ]
    },
    {
     "ename": "OSError",
     "evalue": "ERROR.",
     "output_type": "error",
     "traceback": [
      "\u001b[0;31m---------------------------------------------------------------------------\u001b[0m",
      "\u001b[0;31mOSError\u001b[0m                                   Traceback (most recent call last)",
      "Cell \u001b[0;32mIn[18], line 1\u001b[0m\n\u001b[0;32m----> 1\u001b[0m fc, lc \u001b[39m=\u001b[39m daily_classifier(\u001b[39m'\u001b[39;49m\u001b[39m600122.SH\u001b[39;49m\u001b[39m'\u001b[39;49m, \u001b[39m\"\u001b[39;49m\u001b[39m20190521\u001b[39;49m\u001b[39m\"\u001b[39;49m)\n\u001b[1;32m      2\u001b[0m \u001b[39mprint\u001b[39m(fc, lc)\n",
      "Cell \u001b[0;32mIn[17], line 18\u001b[0m, in \u001b[0;36mdaily_classifier\u001b[0;34m(ts_code, trade_date)\u001b[0m\n\u001b[1;32m     15\u001b[0m end_date \u001b[39m=\u001b[39m start_date \u001b[39m+\u001b[39m timedelta(days\u001b[39m=\u001b[39m\u001b[39m1\u001b[39m)\n\u001b[1;32m     16\u001b[0m end_date \u001b[39m=\u001b[39m end_date\u001b[39m.\u001b[39mdate()\u001b[39m.\u001b[39m\u001b[39m__str__\u001b[39m()\u001b[39m.\u001b[39mreplace(\u001b[39m\"\u001b[39m\u001b[39m-\u001b[39m\u001b[39m\"\u001b[39m, \u001b[39m\"\u001b[39m\u001b[39m\"\u001b[39m)\n\u001b[0;32m---> 18\u001b[0m df \u001b[39m=\u001b[39m ts\u001b[39m.\u001b[39;49mpro_bar(ts_code\u001b[39m=\u001b[39;49mts_code, freq\u001b[39m=\u001b[39;49m\u001b[39m'\u001b[39;49m\u001b[39m30min\u001b[39;49m\u001b[39m'\u001b[39;49m, start_date\u001b[39m=\u001b[39;49mtrade_date, end_date\u001b[39m=\u001b[39;49mend_date)\n\u001b[1;32m     19\u001b[0m df\u001b[39m.\u001b[39msort_values(\u001b[39m'\u001b[39m\u001b[39mtrade_time\u001b[39m\u001b[39m'\u001b[39m, inplace\u001b[39m=\u001b[39m\u001b[39mTrue\u001b[39;00m)\n\u001b[1;32m     20\u001b[0m data \u001b[39m=\u001b[39m df[[\u001b[39m'\u001b[39m\u001b[39mts_code\u001b[39m\u001b[39m'\u001b[39m, \u001b[39m'\u001b[39m\u001b[39mtrade_time\u001b[39m\u001b[39m'\u001b[39m, \u001b[39m'\u001b[39m\u001b[39mhigh\u001b[39m\u001b[39m'\u001b[39m, \u001b[39m'\u001b[39m\u001b[39mlow\u001b[39m\u001b[39m'\u001b[39m]]\u001b[39m.\u001b[39miloc[\u001b[39m1\u001b[39m:, :]\n",
      "File \u001b[0;32m~/.pyenv/versions/3.10.11/envs/python3.10.11/lib/python3.10/site-packages/tushare/pro/data_pro.py:196\u001b[0m, in \u001b[0;36mpro_bar\u001b[0;34m(ts_code, api, start_date, end_date, freq, asset, exchange, adj, ma, factors, adjfactor, offset, limit, contract_type, retry_count)\u001b[0m\n\u001b[1;32m    194\u001b[0m     \u001b[39melse\u001b[39;00m:\n\u001b[1;32m    195\u001b[0m         \u001b[39mreturn\u001b[39;00m data\n\u001b[0;32m--> 196\u001b[0m \u001b[39mraise\u001b[39;00m \u001b[39mIOError\u001b[39;00m(\u001b[39m'\u001b[39m\u001b[39mERROR.\u001b[39m\u001b[39m'\u001b[39m)\n",
      "\u001b[0;31mOSError\u001b[0m: ERROR."
     ]
    }
   ],
   "source": [
    "fc, lc = daily_classifier('600122.SH', \"20190521\")\n",
    "print(fc, lc)"
   ]
  }
 ],
 "metadata": {
  "kernelspec": {
   "display_name": "python3.10.11",
   "language": "python",
   "name": "python3"
  },
  "language_info": {
   "codemirror_mode": {
    "name": "ipython",
    "version": 3
   },
   "file_extension": ".py",
   "mimetype": "text/x-python",
   "name": "python",
   "nbconvert_exporter": "python",
   "pygments_lexer": "ipython3",
   "version": "3.10.11"
  },
  "orig_nbformat": 4
 },
 "nbformat": 4,
 "nbformat_minor": 2
}
