{
 "cells": [
  {
   "cell_type": "code",
   "execution_count": 1,
   "metadata": {},
   "outputs": [],
   "source": [
    "# get_stock_prices.py\n",
    "\n",
    "import os\n",
    "from io import StringIO\n",
    "\n",
    "import pandas as pd\n",
    "import psycopg2\n",
    "import yfinance as yf\n",
    "\n",
    "\n",
    "def download_prices(ticker, period='2y', interval='60m', progress=False):\n",
    "    \"\"\"Download stock prices to a Pandas DataFrame\"\"\"\n",
    "    \n",
    "    df = yf.download(\n",
    "        tickers=ticker,\n",
    "        period=period,\n",
    "        interval=interval, \n",
    "        progress=progress\n",
    "    )\n",
    "    \n",
    "    df = df.reset_index() # remove the index\n",
    "    df['ticker'] = ticker # add a column for the ticker\n",
    "    \n",
    "    # Rename columns to match our database table\n",
    "    df = df.rename(columns={\n",
    "        \"Datetime\": \"time\",\n",
    "        \"Open\": \"open\",\n",
    "        \"High\": \"high\",\n",
    "        \"Low\": \"low\",\n",
    "        \"Close\": \"close\",\n",
    "        \"Adj Close\": \"close_adj\",\n",
    "        \"Volume\": \"volume\",\n",
    "    })\n",
    "    \n",
    "    return df\n",
    "\n",
    "\n",
    "def upload_to_aws_efficiently(df, table_name='stock_prices'):\n",
    "    \"\"\"\n",
    "    Upload the stock price data to AWS as quickly and efficiently as possible\n",
    "    by truncating (i.e. removing) the existing data and copying all-new data\n",
    "    \"\"\"\n",
    "    \n",
    "    with psycopg2.connect(\n",
    "        host='localhost',\n",
    "        #host=os.getenv('POSTGRES_HOST'),\n",
    "        port=os.getenv(\"POSTGRES_PORT\"), \n",
    "        dbname=os.getenv(\"POSTGRES_DB\"), \n",
    "        user=os.getenv(\"POSTGRES_USER\"), \n",
    "        password=os.getenv(\"POSTGRES_PASSWORD\"), \n",
    "        connect_timeout=5\n",
    "    ) as conn:\n",
    "        with conn.cursor() as cursor:\n",
    "            # Truncate the existing table (i.e. remove all existing rows)\n",
    "            cursor.execute(f\"TRUNCATE {table_name}\")\n",
    "            conn.commit()\n",
    "            \n",
    "            # Now insert the brand-new data\n",
    "            # Initialize a string buffer\n",
    "            sio = StringIO()\n",
    "            # Write the Pandas DataFrame as a CSV file to the buffer\n",
    "            sio.write(df.to_csv(index=None, header=None))\n",
    "            # Be sure to reset the position to the start of the stream\n",
    "            sio.seek(0)\n",
    "            cursor.copy_from(\n",
    "                file=sio, \n",
    "                table=table_name, \n",
    "                sep=\",\", \n",
    "                null=\"\", \n",
    "                size=8192, \n",
    "                columns=df.columns\n",
    "            )\n",
    "            conn.commit()\n",
    "            print(\"DataFrame uploaded to TimescaleDB\")\n",
    "\n"
   ]
  },
  {
   "cell_type": "code",
   "execution_count": 2,
   "metadata": {},
   "outputs": [
    {
     "data": {
      "text/plain": [
       "True"
      ]
     },
     "execution_count": 2,
     "metadata": {},
     "output_type": "execute_result"
    }
   ],
   "source": [
    "from dotenv import load_dotenv\n",
    "\n",
    "load_dotenv()"
   ]
  },
  {
   "cell_type": "code",
   "execution_count": 3,
   "metadata": {},
   "outputs": [
    {
     "name": "stdout",
     "output_type": "stream",
     "text": [
      "DataFrame uploaded to TimescaleDB\n",
      "All done!\n"
     ]
    }
   ],
   "source": [
    "# Download prices for the four stocks in which we're interested\n",
    "msft = download_prices(\"MSFT\")\n",
    "tsla = download_prices(\"TSLA\")\n",
    "cvx = download_prices(\"CVX\")\n",
    "xom = download_prices(\"XOM\")\n",
    "\n",
    "# Append the four tables to each-other, one on top of the other\n",
    "df_all = pd.concat([msft, tsla, cvx, xom])\n",
    "\n",
    "# Erase existing data and upload all-new data to TimescaleDB\n",
    "upload_to_aws_efficiently(df_all)\n",
    "\n",
    "print(\"All done!\")    \n"
   ]
  },
  {
   "attachments": {},
   "cell_type": "markdown",
   "metadata": {},
   "source": [
    "## TimescaleDB functions\n",
    "- `time_bucket()`:\n",
    "- `first()`: The `first` aggregate allows you to get the value of one column as ordered by another.\n",
    "- `last()`: The last aggregate allows you to get the value of one column as ordered by another.\n",
    "\n",
    "Important: The `last` and `first` commands do not use indexes, they perform a sequential scan through the group. They are primarily used for ordered selection within a `GROUP BY` aggregate, and not as an alternative to an `ORDER BY` time `DESC LIMIT 1` clause to find the latest value, which uses indexes."
   ]
  },
  {
   "cell_type": "code",
   "execution_count": 107,
   "metadata": {},
   "outputs": [],
   "source": [
    "queries=[\"SELECT * FROM stock_prices WHERE time > (now() - interval '14 days') ORDER BY time, ticker;\"\n",
    "        ,\"SELECT time_bucket('1 day', time) AS period,ticker,first(open,time) as open,max(high,time) AS high,min(low,time) AS low,last(close,time) AS close,last(close_adj,time) as close_adj,sum(volume) AS volume FROM stock_prices GROUP BY ticker,time_bucket('1 day', time) ORDER BY ticker,time_bucket('1 day', time);\"\n",
    "        ,\"SELECT time_bucket('1 day', time) AS period, AVG(close) AS avg_close,last(close, time) AS last_close --the latest value FROM stock_prices GROUP BY period;\"\n",
    "        ,\"SELECT time_bucket('1 day', time) AS period,t2.name, --from the second metadata table t2.industry, --from the second metadata table AVG(close) AS avg_close,last(close, time) AS last_close --the latest value FROM stock_prices t1 INNER JOIN stock_tickers t2 on t1.ticker = t2.ticker GROUP BY period,t2.name,t2.industry;\"\n",
    "        ]"
   ]
  },
  {
   "cell_type": "code",
   "execution_count": 78,
   "metadata": {},
   "outputs": [],
   "source": [
    "def get_data(query:str):\n",
    "    with psycopg2.connect(\n",
    "        host='localhost',\n",
    "        #host=os.getenv('POSTGRES_HOST'),\n",
    "        port=os.getenv(\"POSTGRES_PORT\"), \n",
    "        dbname=os.getenv(\"POSTGRES_DB\"), \n",
    "        user=os.getenv(\"POSTGRES_USER\"), \n",
    "        password=os.getenv(\"POSTGRES_PASSWORD\"), \n",
    "        connect_timeout=5\n",
    "        ) as conn:\n",
    "            with conn.cursor() as cursor:\n",
    "                cursor.execute(query)\n",
    "                return cursor.fetchall()\n"
   ]
  },
  {
   "cell_type": "code",
   "execution_count": 59,
   "metadata": {},
   "outputs": [
    {
     "data": {
      "text/plain": [
       "[\"SELECT * FROM stock_prices WHERE time > (now() - interval '14 days') ORDER BY time, ticker;\",\n",
       " \"SELECT ticker,time_bucket('1 day', time) AS period,AVG(open) as open, AVG(high) AS high, AVG(low) AS low,AVG(close) AS close, AVG(close_adj) as close_adj AVG(volume) AS volume FROM stock_prices GROUP BY ticker,time_bucket('1 day', time) ORDER BY ticker,time_bucket('1 day', time);\"]"
      ]
     },
     "execution_count": 59,
     "metadata": {},
     "output_type": "execute_result"
    }
   ],
   "source": [
    "queries[:2]"
   ]
  },
  {
   "cell_type": "code",
   "execution_count": 108,
   "metadata": {},
   "outputs": [
    {
     "ename": "UndefinedFunction",
     "evalue": "function max(numeric, timestamp without time zone) does not exist\nLINE 1: ..., time) AS period,ticker,first(open,time) as open,max(high,t...\n                                                             ^\nHINT:  No function matches the given name and argument types. You might need to add explicit type casts.\n",
     "output_type": "error",
     "traceback": [
      "\u001b[0;31m---------------------------------------------------------------------------\u001b[0m",
      "\u001b[0;31mUndefinedFunction\u001b[0m                         Traceback (most recent call last)",
      "Cell \u001b[0;32mIn[108], line 1\u001b[0m\n\u001b[0;32m----> 1\u001b[0m result\u001b[39m=\u001b[39mget_data(queries[\u001b[39m1\u001b[39;49m])\n",
      "Cell \u001b[0;32mIn[78], line 12\u001b[0m, in \u001b[0;36mget_data\u001b[0;34m(query)\u001b[0m\n\u001b[1;32m      2\u001b[0m \u001b[39mwith\u001b[39;00m psycopg2\u001b[39m.\u001b[39mconnect(\n\u001b[1;32m      3\u001b[0m     host\u001b[39m=\u001b[39m\u001b[39m'\u001b[39m\u001b[39mlocalhost\u001b[39m\u001b[39m'\u001b[39m,\n\u001b[1;32m      4\u001b[0m     \u001b[39m#host=os.getenv('POSTGRES_HOST'),\u001b[39;00m\n\u001b[0;32m   (...)\u001b[0m\n\u001b[1;32m      9\u001b[0m     connect_timeout\u001b[39m=\u001b[39m\u001b[39m5\u001b[39m\n\u001b[1;32m     10\u001b[0m     ) \u001b[39mas\u001b[39;00m conn:\n\u001b[1;32m     11\u001b[0m         \u001b[39mwith\u001b[39;00m conn\u001b[39m.\u001b[39mcursor() \u001b[39mas\u001b[39;00m cursor:\n\u001b[0;32m---> 12\u001b[0m             cursor\u001b[39m.\u001b[39;49mexecute(query)\n\u001b[1;32m     13\u001b[0m             \u001b[39mreturn\u001b[39;00m cursor\u001b[39m.\u001b[39mfetchall()\n",
      "\u001b[0;31mUndefinedFunction\u001b[0m: function max(numeric, timestamp without time zone) does not exist\nLINE 1: ..., time) AS period,ticker,first(open,time) as open,max(high,t...\n                                                             ^\nHINT:  No function matches the given name and argument types. You might need to add explicit type casts.\n"
     ]
    }
   ],
   "source": [
    "result=get_data(queries[1])"
   ]
  },
  {
   "cell_type": "code",
   "execution_count": 99,
   "metadata": {},
   "outputs": [],
   "source": [
    "cols:list[str]=['time','ticker','open','high','low','close','close_adj','volume']\n",
    "fm={x:lambda v:f'{v:.2f}' for x in cols[2:]}"
   ]
  },
  {
   "cell_type": "code",
   "execution_count": 106,
   "metadata": {},
   "outputs": [
    {
     "data": {
      "text/html": [
       "<style type=\"text/css\">\n",
       "</style>\n",
       "<table id=\"T_f0237\">\n",
       "  <thead>\n",
       "    <tr>\n",
       "      <th class=\"blank level0\" >&nbsp;</th>\n",
       "      <th id=\"T_f0237_level0_col0\" class=\"col_heading level0 col0\" >time</th>\n",
       "      <th id=\"T_f0237_level0_col1\" class=\"col_heading level0 col1\" >ticker</th>\n",
       "      <th id=\"T_f0237_level0_col2\" class=\"col_heading level0 col2\" >open</th>\n",
       "      <th id=\"T_f0237_level0_col3\" class=\"col_heading level0 col3\" >high</th>\n",
       "      <th id=\"T_f0237_level0_col4\" class=\"col_heading level0 col4\" >low</th>\n",
       "      <th id=\"T_f0237_level0_col5\" class=\"col_heading level0 col5\" >close</th>\n",
       "      <th id=\"T_f0237_level0_col6\" class=\"col_heading level0 col6\" >close_adj</th>\n",
       "      <th id=\"T_f0237_level0_col7\" class=\"col_heading level0 col7\" >volume</th>\n",
       "    </tr>\n",
       "  </thead>\n",
       "  <tbody>\n",
       "    <tr>\n",
       "      <th id=\"T_f0237_level0_row0\" class=\"row_heading level0 row0\" >0</th>\n",
       "      <td id=\"T_f0237_row0_col0\" class=\"data row0 col0\" >2021-07-01 00:00:00</td>\n",
       "      <td id=\"T_f0237_row0_col1\" class=\"data row0 col1\" >CVX</td>\n",
       "      <td id=\"T_f0237_row0_col2\" class=\"data row0 col2\" >106.95</td>\n",
       "      <td id=\"T_f0237_row0_col3\" class=\"data row0 col3\" >106.68</td>\n",
       "      <td id=\"T_f0237_row0_col4\" class=\"data row0 col4\" >106.09</td>\n",
       "      <td id=\"T_f0237_row0_col5\" class=\"data row0 col5\" >106.21</td>\n",
       "      <td id=\"T_f0237_row0_col6\" class=\"data row0 col6\" >106.21</td>\n",
       "      <td id=\"T_f0237_row0_col7\" class=\"data row0 col7\" >9024287.00</td>\n",
       "    </tr>\n",
       "    <tr>\n",
       "      <th id=\"T_f0237_level0_row1\" class=\"row_heading level0 row1\" >1</th>\n",
       "      <td id=\"T_f0237_row1_col0\" class=\"data row1 col0\" >2021-07-02 00:00:00</td>\n",
       "      <td id=\"T_f0237_row1_col1\" class=\"data row1 col1\" >CVX</td>\n",
       "      <td id=\"T_f0237_row1_col2\" class=\"data row1 col2\" >105.70</td>\n",
       "      <td id=\"T_f0237_row1_col3\" class=\"data row1 col3\" >106.06</td>\n",
       "      <td id=\"T_f0237_row1_col4\" class=\"data row1 col4\" >105.58</td>\n",
       "      <td id=\"T_f0237_row1_col5\" class=\"data row1 col5\" >106.07</td>\n",
       "      <td id=\"T_f0237_row1_col6\" class=\"data row1 col6\" >106.07</td>\n",
       "      <td id=\"T_f0237_row1_col7\" class=\"data row1 col7\" >5812730.00</td>\n",
       "    </tr>\n",
       "    <tr>\n",
       "      <th id=\"T_f0237_level0_row2\" class=\"row_heading level0 row2\" >2</th>\n",
       "      <td id=\"T_f0237_row2_col0\" class=\"data row2 col0\" >2021-07-06 00:00:00</td>\n",
       "      <td id=\"T_f0237_row2_col1\" class=\"data row2 col1\" >CVX</td>\n",
       "      <td id=\"T_f0237_row2_col2\" class=\"data row2 col2\" >105.97</td>\n",
       "      <td id=\"T_f0237_row2_col3\" class=\"data row2 col3\" >104.44</td>\n",
       "      <td id=\"T_f0237_row2_col4\" class=\"data row2 col4\" >103.78</td>\n",
       "      <td id=\"T_f0237_row2_col5\" class=\"data row2 col5\" >103.99</td>\n",
       "      <td id=\"T_f0237_row2_col6\" class=\"data row2 col6\" >103.99</td>\n",
       "      <td id=\"T_f0237_row2_col7\" class=\"data row2 col7\" >8561964.00</td>\n",
       "    </tr>\n",
       "    <tr>\n",
       "      <th id=\"T_f0237_level0_row3\" class=\"row_heading level0 row3\" >3</th>\n",
       "      <td id=\"T_f0237_row3_col0\" class=\"data row3 col0\" >2021-07-07 00:00:00</td>\n",
       "      <td id=\"T_f0237_row3_col1\" class=\"data row3 col1\" >CVX</td>\n",
       "      <td id=\"T_f0237_row3_col2\" class=\"data row3 col2\" >103.96</td>\n",
       "      <td id=\"T_f0237_row3_col3\" class=\"data row3 col3\" >103.43</td>\n",
       "      <td id=\"T_f0237_row3_col4\" class=\"data row3 col4\" >102.58</td>\n",
       "      <td id=\"T_f0237_row3_col5\" class=\"data row3 col5\" >102.94</td>\n",
       "      <td id=\"T_f0237_row3_col6\" class=\"data row3 col6\" >102.94</td>\n",
       "      <td id=\"T_f0237_row3_col7\" class=\"data row3 col7\" >7430728.00</td>\n",
       "    </tr>\n",
       "    <tr>\n",
       "      <th id=\"T_f0237_level0_row4\" class=\"row_heading level0 row4\" >4</th>\n",
       "      <td id=\"T_f0237_row4_col0\" class=\"data row4 col0\" >2021-07-08 00:00:00</td>\n",
       "      <td id=\"T_f0237_row4_col1\" class=\"data row4 col1\" >CVX</td>\n",
       "      <td id=\"T_f0237_row4_col2\" class=\"data row4 col2\" >101.50</td>\n",
       "      <td id=\"T_f0237_row4_col3\" class=\"data row4 col3\" >102.71</td>\n",
       "      <td id=\"T_f0237_row4_col4\" class=\"data row4 col4\" >102.02</td>\n",
       "      <td id=\"T_f0237_row4_col5\" class=\"data row4 col5\" >102.62</td>\n",
       "      <td id=\"T_f0237_row4_col6\" class=\"data row4 col6\" >102.62</td>\n",
       "      <td id=\"T_f0237_row4_col7\" class=\"data row4 col7\" >7684330.00</td>\n",
       "    </tr>\n",
       "  </tbody>\n",
       "</table>\n"
      ],
      "text/plain": [
       "<pandas.io.formats.style.Styler at 0x7fa2c25a2860>"
      ]
     },
     "execution_count": 106,
     "metadata": {},
     "output_type": "execute_result"
    }
   ],
   "source": [
    "r=pd.DataFrame(result, columns=cols)\n",
    "r.head().style.format(fm)"
   ]
  },
  {
   "cell_type": "code",
   "execution_count": null,
   "metadata": {},
   "outputs": [],
   "source": []
  }
 ],
 "metadata": {
  "kernelspec": {
   "display_name": "python3.10.11",
   "language": "python",
   "name": "python3"
  },
  "language_info": {
   "codemirror_mode": {
    "name": "ipython",
    "version": 3
   },
   "file_extension": ".py",
   "mimetype": "text/x-python",
   "name": "python",
   "nbconvert_exporter": "python",
   "pygments_lexer": "ipython3",
   "version": "3.10.11"
  },
  "orig_nbformat": 4
 },
 "nbformat": 4,
 "nbformat_minor": 2
}
